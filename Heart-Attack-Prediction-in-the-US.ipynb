{
 "cells": [
  {
   "cell_type": "markdown",
   "metadata": {
    "application/vnd.databricks.v1+cell": {
     "cellMetadata": {},
     "inputWidgets": {},
     "nuid": "289646a4-c6c3-4492-b760-5a85678abf7c",
     "showTitle": false,
     "tableResultSettingsMap": {},
     "title": ""
    }
   },
   "source": [
    "# Heart Attack Prediction in the U.S. Using Databricks and AWS\n",
    "Noor Sabahi and Mike Olivieri!"
   ]
  },
  {
   "cell_type": "code",
   "execution_count": 0,
   "metadata": {
    "application/vnd.databricks.v1+cell": {
     "cellMetadata": {
      "byteLimit": 2048000,
      "rowLimit": 10000
     },
     "inputWidgets": {},
     "nuid": "3eae0207-f0d5-4c06-841b-7fb12fba6320",
     "showTitle": false,
     "tableResultSettingsMap": {},
     "title": ""
    }
   },
   "outputs": [],
   "source": [
    "%python\n",
    "# Install the kagglehub module\n",
    "%pip install kagglehub\n",
    "\n",
    "import kagglehub\n",
    "import os\n",
    "\n",
    "# Set environment variables\n",
    "#    kaggle_username = dbutils.secrets.get(scope=\"my-scope\", key=\"KAGGLE_USERNAME\")\n",
    "#    my_variable = dbutils.secrets.get(scope=\"my-scope\", key=\"MY_VARIABLE\")\n",
    "os.environ['KAGGLE_USERNAME'] = 'mikeolivieri'\n",
    "os.environ['KAGGLE_KEY'] = '2a0ffa116a398ce3a8241354a5e2475f'\n",
    "\n",
    "kagglehub.login()\n",
    "\n",
    "# kagglehub.model_download('google/bert/tensorFlow2/answer-equivalence-bem')\n",
    "\n",
    "path = kagglehub.dataset_download(\"ankushpanday2/heart-attack-prediction-in-united-states\")\n",
    "\n",
    "print(path)\n"
   ]
  }
 ],
 "metadata": {
  "application/vnd.databricks.v1+notebook": {
   "computePreferences": null,
   "dashboards": [],
   "environmentMetadata": {
    "base_environment": "",
    "environment_version": "2"
   },
   "language": "python",
   "notebookMetadata": {
    "pythonIndentUnit": 4
   },
   "notebookName": "Heart-Attack-Prediction-in-the-US",
   "widgets": {}
  },
  "language_info": {
   "name": "python"
  }
 },
 "nbformat": 4,
 "nbformat_minor": 0
}
